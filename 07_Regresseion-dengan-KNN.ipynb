{
 "cells": [
  {
   "cell_type": "markdown",
   "id": "370e0fb7-1a85-4833-bed8-958f631559cb",
   "metadata": {},
   "source": [
    "# 07 Regression dengan KNN (K Nearest Neighbours)\n",
    "- KNN adalah model machine learning yang dapat digunakan untuk melakukan prediksi berdasarkan kedekatan karakteristik dengan sejumlah tetangga terdekat.\n",
    "- Prediksi yang dilakukan dapat diterapkan baik pada classification maupun regression tasks.\n",
    "\n",
    "Referensi: https://en.wikipedia.org/wiki/K-nearest_neighbors_algorithm"
   ]
  },
  {
   "cell_type": "markdown",
   "id": "6e5a0f85-20dd-4151-afe6-b671b90e9823",
   "metadata": {},
   "source": [
    "# Sample Dataset"
   ]
  },
  {
   "cell_type": "code",
   "execution_count": 2,
   "id": "45af0e52-c18b-4624-916a-0aaf6bf2d71b",
   "metadata": {},
   "outputs": [
    {
     "data": {
      "text/html": [
       "<div>\n",
       "<style scoped>\n",
       "    .dataframe tbody tr th:only-of-type {\n",
       "        vertical-align: middle;\n",
       "    }\n",
       "\n",
       "    .dataframe tbody tr th {\n",
       "        vertical-align: top;\n",
       "    }\n",
       "\n",
       "    .dataframe thead th {\n",
       "        text-align: right;\n",
       "    }\n",
       "</style>\n",
       "<table border=\"1\" class=\"dataframe\">\n",
       "  <thead>\n",
       "    <tr style=\"text-align: right;\">\n",
       "      <th></th>\n",
       "      <th>tinggi</th>\n",
       "      <th>jk</th>\n",
       "      <th>berat</th>\n",
       "    </tr>\n",
       "  </thead>\n",
       "  <tbody>\n",
       "    <tr>\n",
       "      <th>0</th>\n",
       "      <td>158</td>\n",
       "      <td>pria</td>\n",
       "      <td>64</td>\n",
       "    </tr>\n",
       "    <tr>\n",
       "      <th>1</th>\n",
       "      <td>170</td>\n",
       "      <td>pria</td>\n",
       "      <td>86</td>\n",
       "    </tr>\n",
       "    <tr>\n",
       "      <th>2</th>\n",
       "      <td>183</td>\n",
       "      <td>pria</td>\n",
       "      <td>84</td>\n",
       "    </tr>\n",
       "    <tr>\n",
       "      <th>3</th>\n",
       "      <td>191</td>\n",
       "      <td>pria</td>\n",
       "      <td>80</td>\n",
       "    </tr>\n",
       "    <tr>\n",
       "      <th>4</th>\n",
       "      <td>155</td>\n",
       "      <td>wanita</td>\n",
       "      <td>49</td>\n",
       "    </tr>\n",
       "    <tr>\n",
       "      <th>5</th>\n",
       "      <td>163</td>\n",
       "      <td>wanita</td>\n",
       "      <td>59</td>\n",
       "    </tr>\n",
       "    <tr>\n",
       "      <th>6</th>\n",
       "      <td>180</td>\n",
       "      <td>wanita</td>\n",
       "      <td>67</td>\n",
       "    </tr>\n",
       "    <tr>\n",
       "      <th>7</th>\n",
       "      <td>158</td>\n",
       "      <td>wanita</td>\n",
       "      <td>54</td>\n",
       "    </tr>\n",
       "    <tr>\n",
       "      <th>8</th>\n",
       "      <td>170</td>\n",
       "      <td>wanita</td>\n",
       "      <td>67</td>\n",
       "    </tr>\n",
       "  </tbody>\n",
       "</table>\n",
       "</div>"
      ],
      "text/plain": [
       "   tinggi      jk  berat\n",
       "0     158    pria     64\n",
       "1     170    pria     86\n",
       "2     183    pria     84\n",
       "3     191    pria     80\n",
       "4     155  wanita     49\n",
       "5     163  wanita     59\n",
       "6     180  wanita     67\n",
       "7     158  wanita     54\n",
       "8     170  wanita     67"
      ]
     },
     "execution_count": 2,
     "metadata": {},
     "output_type": "execute_result"
    }
   ],
   "source": [
    "import pandas as pd\n",
    "\n",
    "sensus = {'tinggi': [158, 170, 183, 191, 155, 163, 180, 158, 170], \n",
    "          'jk': ['pria', 'pria', 'pria', 'pria', 'wanita', 'wanita', 'wanita', 'wanita', 'wanita'],\n",
    "          'berat': [64, 86, 84, 80, 49, 59, 67, 54, 67]}\n",
    "\n",
    "sensus_df = pd.DataFrame(sensus)\n",
    "sensus_df"
   ]
  },
  {
   "cell_type": "markdown",
   "id": "9824d5ad-89ef-4322-b61e-1b6231046ae9",
   "metadata": {},
   "source": [
    "# Regression dengan KNN"
   ]
  },
  {
   "cell_type": "markdown",
   "id": "900581c1-4c0e-4ec2-a2b4-17b122ac6699",
   "metadata": {},
   "source": [
    "## Features & Target"
   ]
  },
  {
   "cell_type": "code",
   "execution_count": 5,
   "id": "498af4e0-d0f8-4b4d-b543-0fc3f417b570",
   "metadata": {},
   "outputs": [
    {
     "name": "stdout",
     "output_type": "stream",
     "text": [
      "X_train:\n",
      "[[158 'pria']\n",
      " [170 'pria']\n",
      " [183 'pria']\n",
      " [191 'pria']\n",
      " [155 'wanita']\n",
      " [163 'wanita']\n",
      " [180 'wanita']\n",
      " [158 'wanita']\n",
      " [170 'wanita']]\n",
      "\n",
      "y_train: [64 86 84 80 49 59 67 54 67]\n"
     ]
    }
   ],
   "source": [
    "import numpy as np\n",
    "\n",
    "X_train = np.array(sensus_df[['tinggi', 'jk']])\n",
    "y_train = np.array(sensus_df['berat'])\n",
    "\n",
    "print(f'X_train:\\n{X_train}\\n')\n",
    "print(f'y_train: {y_train}')"
   ]
  },
  {
   "cell_type": "markdown",
   "id": "977d3e08-1782-43c5-b6fc-a0d2470a921d",
   "metadata": {},
   "source": [
    "# Preprocess Dataset: Konversi Label menjadi Numerik Biner"
   ]
  },
  {
   "cell_type": "code",
   "execution_count": 7,
   "id": "41d26327-cd6e-4eb9-a6f1-8f995e218326",
   "metadata": {},
   "outputs": [
    {
     "name": "stdout",
     "output_type": "stream",
     "text": [
      "X_train:\n",
      "[[158 'pria']\n",
      " [170 'pria']\n",
      " [183 'pria']\n",
      " [191 'pria']\n",
      " [155 'wanita']\n",
      " [163 'wanita']\n",
      " [180 'wanita']\n",
      " [158 'wanita']\n",
      " [170 'wanita']]\n",
      "\n",
      "X_train_transposed:\n",
      "[[158 170 183 191 155 163 180 158 170]\n",
      " ['pria' 'pria' 'pria' 'pria' 'wanita' 'wanita' 'wanita' 'wanita'\n",
      "  'wanita']]\n"
     ]
    }
   ],
   "source": [
    "X_train_transposed = np.transpose(X_train)\n",
    "\n",
    "print(f'X_train:\\n{X_train}\\n')\n",
    "print(f'X_train_transposed:\\n{X_train_transposed}')"
   ]
  },
  {
   "cell_type": "code",
   "execution_count": 8,
   "id": "c8e94393-3f9c-4707-822d-53ef9fdd41fe",
   "metadata": {},
   "outputs": [
    {
     "name": "stdout",
     "output_type": "stream",
     "text": [
      "jk: ['pria' 'pria' 'pria' 'pria' 'wanita' 'wanita' 'wanita' 'wanita' 'wanita']\n",
      "\n",
      "jk_binarised:\n",
      "[[0]\n",
      " [0]\n",
      " [0]\n",
      " [0]\n",
      " [1]\n",
      " [1]\n",
      " [1]\n",
      " [1]\n",
      " [1]]\n"
     ]
    }
   ],
   "source": [
    "from sklearn.preprocessing import LabelBinarizer\n",
    "\n",
    "lb = LabelBinarizer()\n",
    "jk_binarised = lb.fit_transform(X_train_transposed[1])\n",
    "\n",
    "print(f'jk: {X_train_transposed[1]}\\n')\n",
    "print(f'jk_binarised:\\n{jk_binarised}')"
   ]
  },
  {
   "cell_type": "code",
   "execution_count": 9,
   "id": "b6fd058b-5927-4ce0-a106-fdf966e2067d",
   "metadata": {},
   "outputs": [
    {
     "data": {
      "text/plain": [
       "array([0, 0, 0, 0, 1, 1, 1, 1, 1])"
      ]
     },
     "execution_count": 9,
     "metadata": {},
     "output_type": "execute_result"
    }
   ],
   "source": [
    "jk_binarised = jk_binarised.flatten()\n",
    "jk_binarised"
   ]
  },
  {
   "cell_type": "code",
   "execution_count": 10,
   "id": "40577276-564d-4609-b81b-ab49f43a61ea",
   "metadata": {},
   "outputs": [
    {
     "name": "stdout",
     "output_type": "stream",
     "text": [
      "X_train_transposed:\n",
      "[[158 170 183 191 155 163 180 158 170]\n",
      " [0 0 0 0 1 1 1 1 1]]\n",
      "\n",
      "X_train:\n",
      "[[158 0]\n",
      " [170 0]\n",
      " [183 0]\n",
      " [191 0]\n",
      " [155 1]\n",
      " [163 1]\n",
      " [180 1]\n",
      " [158 1]\n",
      " [170 1]]\n"
     ]
    }
   ],
   "source": [
    "X_train_transposed[1] = jk_binarised\n",
    "X_train = X_train_transposed.transpose()\n",
    "\n",
    "print(f'X_train_transposed:\\n{X_train_transposed}\\n')\n",
    "print(f'X_train:\\n{X_train}')"
   ]
  },
  {
   "cell_type": "markdown",
   "id": "e2b73c11-4faa-4cef-be89-ba6d54952548",
   "metadata": {},
   "source": [
    "# Training KNN Regression Model"
   ]
  },
  {
   "cell_type": "code",
   "execution_count": 12,
   "id": "e313f485-5b9e-4605-ace9-0ab0fe2b0ef1",
   "metadata": {},
   "outputs": [
    {
     "data": {
      "text/html": [
       "<style>#sk-container-id-1 {color: black;background-color: white;}#sk-container-id-1 pre{padding: 0;}#sk-container-id-1 div.sk-toggleable {background-color: white;}#sk-container-id-1 label.sk-toggleable__label {cursor: pointer;display: block;width: 100%;margin-bottom: 0;padding: 0.3em;box-sizing: border-box;text-align: center;}#sk-container-id-1 label.sk-toggleable__label-arrow:before {content: \"▸\";float: left;margin-right: 0.25em;color: #696969;}#sk-container-id-1 label.sk-toggleable__label-arrow:hover:before {color: black;}#sk-container-id-1 div.sk-estimator:hover label.sk-toggleable__label-arrow:before {color: black;}#sk-container-id-1 div.sk-toggleable__content {max-height: 0;max-width: 0;overflow: hidden;text-align: left;background-color: #f0f8ff;}#sk-container-id-1 div.sk-toggleable__content pre {margin: 0.2em;color: black;border-radius: 0.25em;background-color: #f0f8ff;}#sk-container-id-1 input.sk-toggleable__control:checked~div.sk-toggleable__content {max-height: 200px;max-width: 100%;overflow: auto;}#sk-container-id-1 input.sk-toggleable__control:checked~label.sk-toggleable__label-arrow:before {content: \"▾\";}#sk-container-id-1 div.sk-estimator input.sk-toggleable__control:checked~label.sk-toggleable__label {background-color: #d4ebff;}#sk-container-id-1 div.sk-label input.sk-toggleable__control:checked~label.sk-toggleable__label {background-color: #d4ebff;}#sk-container-id-1 input.sk-hidden--visually {border: 0;clip: rect(1px 1px 1px 1px);clip: rect(1px, 1px, 1px, 1px);height: 1px;margin: -1px;overflow: hidden;padding: 0;position: absolute;width: 1px;}#sk-container-id-1 div.sk-estimator {font-family: monospace;background-color: #f0f8ff;border: 1px dotted black;border-radius: 0.25em;box-sizing: border-box;margin-bottom: 0.5em;}#sk-container-id-1 div.sk-estimator:hover {background-color: #d4ebff;}#sk-container-id-1 div.sk-parallel-item::after {content: \"\";width: 100%;border-bottom: 1px solid gray;flex-grow: 1;}#sk-container-id-1 div.sk-label:hover label.sk-toggleable__label {background-color: #d4ebff;}#sk-container-id-1 div.sk-serial::before {content: \"\";position: absolute;border-left: 1px solid gray;box-sizing: border-box;top: 0;bottom: 0;left: 50%;z-index: 0;}#sk-container-id-1 div.sk-serial {display: flex;flex-direction: column;align-items: center;background-color: white;padding-right: 0.2em;padding-left: 0.2em;position: relative;}#sk-container-id-1 div.sk-item {position: relative;z-index: 1;}#sk-container-id-1 div.sk-parallel {display: flex;align-items: stretch;justify-content: center;background-color: white;position: relative;}#sk-container-id-1 div.sk-item::before, #sk-container-id-1 div.sk-parallel-item::before {content: \"\";position: absolute;border-left: 1px solid gray;box-sizing: border-box;top: 0;bottom: 0;left: 50%;z-index: -1;}#sk-container-id-1 div.sk-parallel-item {display: flex;flex-direction: column;z-index: 1;position: relative;background-color: white;}#sk-container-id-1 div.sk-parallel-item:first-child::after {align-self: flex-end;width: 50%;}#sk-container-id-1 div.sk-parallel-item:last-child::after {align-self: flex-start;width: 50%;}#sk-container-id-1 div.sk-parallel-item:only-child::after {width: 0;}#sk-container-id-1 div.sk-dashed-wrapped {border: 1px dashed gray;margin: 0 0.4em 0.5em 0.4em;box-sizing: border-box;padding-bottom: 0.4em;background-color: white;}#sk-container-id-1 div.sk-label label {font-family: monospace;font-weight: bold;display: inline-block;line-height: 1.2em;}#sk-container-id-1 div.sk-label-container {text-align: center;}#sk-container-id-1 div.sk-container {/* jupyter's `normalize.less` sets `[hidden] { display: none; }` but bootstrap.min.css set `[hidden] { display: none !important; }` so we also need the `!important` here to be able to override the default hidden behavior on the sphinx rendered scikit-learn.org. See: https://github.com/scikit-learn/scikit-learn/issues/21755 */display: inline-block !important;position: relative;}#sk-container-id-1 div.sk-text-repr-fallback {display: none;}</style><div id=\"sk-container-id-1\" class=\"sk-top-container\"><div class=\"sk-text-repr-fallback\"><pre>KNeighborsRegressor(n_neighbors=3)</pre><b>In a Jupyter environment, please rerun this cell to show the HTML representation or trust the notebook. <br />On GitHub, the HTML representation is unable to render, please try loading this page with nbviewer.org.</b></div><div class=\"sk-container\" hidden><div class=\"sk-item\"><div class=\"sk-estimator sk-toggleable\"><input class=\"sk-toggleable__control sk-hidden--visually\" id=\"sk-estimator-id-1\" type=\"checkbox\" checked><label for=\"sk-estimator-id-1\" class=\"sk-toggleable__label sk-toggleable__label-arrow\">KNeighborsRegressor</label><div class=\"sk-toggleable__content\"><pre>KNeighborsRegressor(n_neighbors=3)</pre></div></div></div></div></div>"
      ],
      "text/plain": [
       "KNeighborsRegressor(n_neighbors=3)"
      ]
     },
     "execution_count": 12,
     "metadata": {},
     "output_type": "execute_result"
    }
   ],
   "source": [
    "from sklearn.neighbors import KNeighborsRegressor\n",
    "\n",
    "K = 3\n",
    "model = KNeighborsRegressor(n_neighbors=K)\n",
    "model.fit(X_train, y_train)"
   ]
  },
  {
   "cell_type": "markdown",
   "id": "8359365c-0b47-482a-be04-4bddd995554a",
   "metadata": {},
   "source": [
    "# Prediksi Berat Badan"
   ]
  },
  {
   "cell_type": "code",
   "execution_count": 14,
   "id": "3476a447-af66-457b-8d41-a05b9489c35f",
   "metadata": {},
   "outputs": [
    {
     "data": {
      "text/plain": [
       "array([[155,   1]])"
      ]
     },
     "execution_count": 14,
     "metadata": {},
     "output_type": "execute_result"
    }
   ],
   "source": [
    "X_new = np.array([[155, 1]])\n",
    "X_new"
   ]
  },
  {
   "cell_type": "code",
   "execution_count": 15,
   "id": "ed76ff9f-b062-4e42-8cab-fb758b2a5cb6",
   "metadata": {},
   "outputs": [
    {
     "data": {
      "text/plain": [
       "array([55.66666667])"
      ]
     },
     "execution_count": 15,
     "metadata": {},
     "output_type": "execute_result"
    }
   ],
   "source": [
    "y_pred = model.predict(X_new)\n",
    "y_pred"
   ]
  },
  {
   "cell_type": "markdown",
   "id": "b2ed919c-3c8b-4ee8-a2ee-4d4281495752",
   "metadata": {},
   "source": [
    "# Evaluasi KNN Regression Model"
   ]
  },
  {
   "cell_type": "code",
   "execution_count": 17,
   "id": "f2456416-c0f8-4859-aa63-df0b6e0e90b5",
   "metadata": {},
   "outputs": [
    {
     "name": "stdout",
     "output_type": "stream",
     "text": [
      "X_test:\n",
      "[[168   0]\n",
      " [180   0]\n",
      " [160   1]\n",
      " [169   1]]\n",
      "\n",
      "y_test: [65 96 52 67]\n"
     ]
    }
   ],
   "source": [
    "X_test = np.array([[168, 0], [180, 0], [160, 1], [169, 1]])\n",
    "y_test = np.array([65, 96, 52, 67])\n",
    "\n",
    "print(f'X_test:\\n{X_test}\\n')\n",
    "print(f'y_test: {y_test}')"
   ]
  },
  {
   "cell_type": "code",
   "execution_count": 18,
   "id": "ef6a871b-a272-4a40-959b-c78cc3df4fd1",
   "metadata": {},
   "outputs": [
    {
     "data": {
      "text/plain": [
       "array([70.66666667, 79.        , 59.        , 70.66666667])"
      ]
     },
     "execution_count": 18,
     "metadata": {},
     "output_type": "execute_result"
    }
   ],
   "source": [
    "y_pred = model.predict(X_test)\n",
    "y_pred"
   ]
  },
  {
   "cell_type": "markdown",
   "id": "5177715b-f503-4411-949a-4630f84e0118",
   "metadata": {},
   "source": [
    "# Coefficient of Determination atau R²\n",
    "Referensi: https://en.wikipedia.org/wiki/Coefficient_of_determination"
   ]
  },
  {
   "cell_type": "code",
   "execution_count": 20,
   "id": "1e005752-8e89-48a8-8f1d-6611b094311d",
   "metadata": {},
   "outputs": [
    {
     "name": "stdout",
     "output_type": "stream",
     "text": [
      "R-squared: 0.6290565226735438\n"
     ]
    }
   ],
   "source": [
    "from sklearn.metrics import r2_score\n",
    "\n",
    "r_squared = r2_score(y_test, y_pred)\n",
    "\n",
    "print(f'R-squared: {r_squared}')"
   ]
  },
  {
   "cell_type": "markdown",
   "id": "9478fd6d-fee1-4cfa-83c0-3abb43060c86",
   "metadata": {},
   "source": [
    "# Mean Absolute Error (MAE) atau Mean Absolute Deviation (MAD)"
   ]
  },
  {
   "cell_type": "code",
   "execution_count": 22,
   "id": "6b81d1b1-b2da-46f4-b45f-aaa42b757026",
   "metadata": {},
   "outputs": [
    {
     "name": "stdout",
     "output_type": "stream",
     "text": [
      "MAE: 8.333333333333336\n"
     ]
    }
   ],
   "source": [
    "from sklearn.metrics import mean_absolute_error\n",
    "\n",
    "MAE = mean_absolute_error(y_test, y_pred)\n",
    "\n",
    "print(f'MAE: {MAE}')"
   ]
  },
  {
   "cell_type": "markdown",
   "id": "5dcd46df-7a58-47dc-9daf-7280a6109c3f",
   "metadata": {},
   "source": [
    "# Mean Squared Error (MSE) atau Mean Squared Deviation (MSD)"
   ]
  },
  {
   "cell_type": "code",
   "execution_count": 24,
   "id": "b7a42686-a49b-4e91-b947-55cb68b111d9",
   "metadata": {},
   "outputs": [
    {
     "name": "stdout",
     "output_type": "stream",
     "text": [
      "MSE: 95.8888888888889\n"
     ]
    }
   ],
   "source": [
    "from sklearn.metrics import mean_squared_error\n",
    "\n",
    "MSE = mean_squared_error(y_test, y_pred)\n",
    "\n",
    "print(f'MSE: {MSE}')"
   ]
  },
  {
   "cell_type": "markdown",
   "id": "a1eafbd3-b0d0-4503-ac17-d8ae673be897",
   "metadata": {},
   "source": [
    "# Permasalahan Scaling pada Features"
   ]
  },
  {
   "cell_type": "code",
   "execution_count": 26,
   "id": "03d9c0d3-a833-447d-99d7-29dcc748c6fb",
   "metadata": {},
   "outputs": [
    {
     "data": {
      "text/plain": [
       "[60.0, 40.01249804748511]"
      ]
     },
     "execution_count": 26,
     "metadata": {},
     "output_type": "execute_result"
    }
   ],
   "source": [
    "from scipy.spatial.distance import euclidean\n",
    "\n",
    "# tinggi dalam milimeter\n",
    "X_train = np.array([[1700, 0], [1600, 1]])\n",
    "X_new = np.array([[1640, 0]])\n",
    "\n",
    "[euclidean(X_new[0], d) for d in X_train]"
   ]
  },
  {
   "cell_type": "code",
   "execution_count": 27,
   "id": "f20a297f-449e-439d-b90f-7d40786da46d",
   "metadata": {},
   "outputs": [
    {
     "data": {
      "text/plain": [
       "[0.06000000000000005, 1.0007996802557442]"
      ]
     },
     "execution_count": 27,
     "metadata": {},
     "output_type": "execute_result"
    }
   ],
   "source": [
    "# tinggi dalam meter\n",
    "X_train = np.array([[1.7, 0], [1.6, 1]])\n",
    "X_new = np.array([[1.64, 0]])\n",
    "\n",
    "[euclidean(X_new[0], d) for d in X_train]"
   ]
  },
  {
   "cell_type": "markdown",
   "id": "405a1c4e-cc67-4b41-aea1-c07eef9ded56",
   "metadata": {},
   "source": [
    "# Menerapkan Standard Scaler (Standard Score atau Z-Score)"
   ]
  },
  {
   "cell_type": "code",
   "execution_count": 29,
   "id": "f4247373-d3a8-41d1-a174-f1599401b45b",
   "metadata": {},
   "outputs": [],
   "source": [
    "from sklearn.preprocessing import StandardScaler\n",
    "\n",
    "ss = StandardScaler()"
   ]
  },
  {
   "cell_type": "code",
   "execution_count": 32,
   "id": "2beeb4c1-8157-460e-922a-b083ea728665",
   "metadata": {},
   "outputs": [
    {
     "name": "stdout",
     "output_type": "stream",
     "text": [
      "X_train_scaled:\n",
      "[[ 1. -1.]\n",
      " [-1.  1.]]\n",
      "\n",
      "X_new_scaled: [[-0.2 -1. ]]\n",
      "\n",
      "jarak: [1.2, 2.1540659228538015]\n"
     ]
    }
   ],
   "source": [
    "# tinggi dalam milimeter\n",
    "X_train = np.array([[1700, 0], [1600, 1]])\n",
    "X_train_scaled = ss.fit_transform(X_train)\n",
    "print(f'X_train_scaled:\\n{X_train_scaled}\\n')\n",
    "\n",
    "X_new = np.array([[1640, 0]])\n",
    "X_new_scaled = ss.transform(X_new)\n",
    "print(f'X_new_scaled: {X_new_scaled}\\n')\n",
    "\n",
    "jarak = [euclidean(X_new_scaled[0], d) for d in X_train_scaled]\n",
    "print(f'jarak: {jarak}')"
   ]
  },
  {
   "cell_type": "code",
   "execution_count": 33,
   "id": "74c97fd0-72b1-4fbf-8384-6c3eb18baa9b",
   "metadata": {},
   "outputs": [
    {
     "name": "stdout",
     "output_type": "stream",
     "text": [
      "X_train_scaled:\n",
      "[[ 1. -1.]\n",
      " [-1.  1.]]\n",
      "\n",
      "X_new_scaled: [[-0.2 -1. ]]\n",
      "\n",
      "jarak: [1.2000000000000026, 2.1540659228538006]\n"
     ]
    }
   ],
   "source": [
    "# tinggi dalam meter\n",
    "X_train = np.array([[1.7, 0], [1.6, 1]])\n",
    "X_train_scaled = ss.fit_transform(X_train)\n",
    "print(f'X_train_scaled:\\n{X_train_scaled}\\n')\n",
    "\n",
    "X_new = np.array([[1.64, 0]])\n",
    "X_new_scaled = ss.transform(X_new)\n",
    "print(f'X_new_scaled: {X_new_scaled}\\n')\n",
    "\n",
    "jarak = [euclidean(X_new_scaled[0], d) for d in X_train_scaled]\n",
    "print(f'jarak: {jarak}')"
   ]
  },
  {
   "cell_type": "markdown",
   "id": "436b48d7-52f9-4202-90c4-a1c8f4b5085e",
   "metadata": {},
   "source": [
    "# Menerapkan Features Scaling pada KNN"
   ]
  },
  {
   "cell_type": "markdown",
   "id": "39946571-7005-470e-b8d5-3741e8934683",
   "metadata": {},
   "source": [
    "## Dataset "
   ]
  },
  {
   "cell_type": "code",
   "execution_count": 36,
   "id": "f3de8a4c-4717-4452-9595-4fe9cbf0dfa5",
   "metadata": {},
   "outputs": [],
   "source": [
    "# Training Set\n",
    "X_train = np.array([[158, 0], [170, 0], [183, 0], [191, 0], [155, 1], [163, 1],\n",
    "                    [180, 1], [158, 1], [170, 1]])\n",
    "\n",
    "y_train = np.array([64, 86, 84, 80, 49, 59, 67, 54, 67])\n",
    "\n",
    "# Test Set\n",
    "X_test = np.array([[168, 0], [180, 0], [160, 1], [169, 1]])\n",
    "y_test = np.array([65, 96, 52, 67])"
   ]
  },
  {
   "cell_type": "markdown",
   "id": "706143bf-df26-4d1c-a296-e5caf88683fe",
   "metadata": {},
   "source": [
    "## Features Scaling (Standard Scaler)"
   ]
  },
  {
   "cell_type": "code",
   "execution_count": 38,
   "id": "ec0948f1-4645-46b1-9f32-319621cd6054",
   "metadata": {},
   "outputs": [
    {
     "name": "stdout",
     "output_type": "stream",
     "text": [
      "X_train_scaled:\n",
      "[[-0.9908706  -1.11803399]\n",
      " [ 0.01869567 -1.11803399]\n",
      " [ 1.11239246 -1.11803399]\n",
      " [ 1.78543664 -1.11803399]\n",
      " [-1.24326216  0.89442719]\n",
      " [-0.57021798  0.89442719]\n",
      " [ 0.86000089  0.89442719]\n",
      " [-0.9908706   0.89442719]\n",
      " [ 0.01869567  0.89442719]]\n",
      "\n",
      "X_test_scaled:\n",
      "[[-0.14956537 -1.11803399]\n",
      " [ 0.86000089 -1.11803399]\n",
      " [-0.82260955  0.89442719]\n",
      " [-0.06543485  0.89442719]]\n",
      "\n"
     ]
    }
   ],
   "source": [
    "X_train_scaled = ss.fit_transform(X_train)\n",
    "X_test_scaled = ss.transform(X_test)\n",
    "\n",
    "print(f'X_train_scaled:\\n{X_train_scaled}\\n')\n",
    "print(f'X_test_scaled:\\n{X_test_scaled}\\n')"
   ]
  },
  {
   "cell_type": "markdown",
   "id": "4054e37f-5e3b-4842-b2f5-ff02b86dbeea",
   "metadata": {},
   "source": [
    "## Training & Evaluasi Model"
   ]
  },
  {
   "cell_type": "code",
   "execution_count": 40,
   "id": "9a1a39f5-48b5-40bf-a306-cd912f6e1b03",
   "metadata": {},
   "outputs": [
    {
     "name": "stdout",
     "output_type": "stream",
     "text": [
      "MAE: 7.583333333333336\n",
      "MSE: 85.13888888888893\n"
     ]
    }
   ],
   "source": [
    "model.fit(X_train_scaled, y_train)\n",
    "y_pred = model.predict(X_test_scaled)\n",
    "\n",
    "MAE = mean_absolute_error(y_test, y_pred)\n",
    "MSE = mean_squared_error(y_test, y_pred)\n",
    "\n",
    "print(f'MAE: {MAE}')\n",
    "print(f'MSE: {MSE}')"
   ]
  },
  {
   "cell_type": "code",
   "execution_count": null,
   "id": "7405cc64-7d39-4894-a8e4-a2b61e200182",
   "metadata": {},
   "outputs": [],
   "source": []
  }
 ],
 "metadata": {
  "kernelspec": {
   "display_name": "Python 3 (ipykernel)",
   "language": "python",
   "name": "python3"
  },
  "language_info": {
   "codemirror_mode": {
    "name": "ipython",
    "version": 3
   },
   "file_extension": ".py",
   "mimetype": "text/x-python",
   "name": "python",
   "nbconvert_exporter": "python",
   "pygments_lexer": "ipython3",
   "version": "3.11.7"
  }
 },
 "nbformat": 4,
 "nbformat_minor": 5
}
